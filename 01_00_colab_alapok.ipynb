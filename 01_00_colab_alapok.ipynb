{
  "nbformat": 4,
  "nbformat_minor": 0,
  "metadata": {
    "colab": {
      "name": "00_colab_alapok.ipynb",
      "provenance": []
    },
    "kernelspec": {
      "name": "python3",
      "display_name": "Python 3"
    }
  },
  "cells": [
    {
      "cell_type": "markdown",
      "metadata": {
        "id": "Y13c5aLHKl87"
      },
      "source": [
        "# Cellatípusok\n",
        "\n",
        "Egy Colab interaktív dokumentum cellákból áll, melyek Python kódot vagy [Markdown szintaxis](https://www.markdownguide.org) szerint formatált szöveget tartalmaznak. Ez egy szövegcella. "
      ]
    },
    {
      "cell_type": "code",
      "metadata": {
        "colab": {
          "base_uri": "https://localhost:8080/"
        },
        "id": "OpdbIuhVLaMl",
        "outputId": "aa70b627-cdc0-4062-afe3-cba60cbd566b"
      },
      "source": [
        "# A futtatáshoz nyomja meg a bal lejátszás (play) gombot, vagy klikkeljen a cellára, majd nyomja meg a Shift + Enter billentyűt \n",
        "print('Ez egy kódcella, futtatható.')"
      ],
      "execution_count": 1,
      "outputs": [
        {
          "output_type": "stream",
          "name": "stdout",
          "text": [
            "Ez egy kódcella, futtatható.\n"
          ]
        }
      ]
    },
    {
      "cell_type": "markdown",
      "metadata": {
        "id": "_eM0BEnTL5-p"
      },
      "source": [
        "# Rendszerparancsok\n",
        "\n",
        "A Colab notebook egy virtuális gépben fut, amelyhez közvetlen hozzáférésünk van, így rendszerparancsokat is futtathatunk a VM terminálján. Egy kezdő felkiáltójellel jellezük, hogy a parancs nem a Python értelmezőnek szól, hanem a rendszernek szánjuk. "
      ]
    },
    {
      "cell_type": "code",
      "metadata": {
        "colab": {
          "base_uri": "https://localhost:8080/"
        },
        "id": "5w6tmwhyLz0X",
        "outputId": "eb001459-9147-41ff-9e7f-3a46d70c75cb"
      },
      "source": [
        "!touch newfile1.txt\n",
        "!echo \"Hello, World!\" > newfile2.txt\n",
        "print('Fájlok listázása\\n')\n",
        "!ls -l\n",
        "print('Munkakönyvtár:\\n')\n",
        "!pwd\n",
        "print('newfile2.txt tartalma\\n')\n",
        "!cat newfile2.txt"
      ],
      "execution_count": 2,
      "outputs": [
        {
          "output_type": "stream",
          "name": "stdout",
          "text": [
            "Fájlok listázása\n",
            "\n",
            "total 8\n",
            "-rw-r--r-- 1 root root    0 Feb 22 08:25 newfile1.txt\n",
            "-rw-r--r-- 1 root root   14 Feb 22 08:25 newfile2.txt\n",
            "drwxr-xr-x 1 root root 4096 Feb 17 19:30 sample_data\n",
            "Munkakönyvtár:\n",
            "\n",
            "/content\n",
            "newfile2.txt tartalma\n",
            "\n",
            "Hello, World!\n"
          ]
        }
      ]
    },
    {
      "cell_type": "code",
      "metadata": {
        "colab": {
          "base_uri": "https://localhost:8080/"
        },
        "id": "a5Rl-tIcNDTC",
        "outputId": "6d523076-ce20-4615-b1b1-6046656a051d"
      },
      "source": [
        "print('Python verzió listázása\\n')\n",
        "!python --version"
      ],
      "execution_count": 3,
      "outputs": [
        {
          "output_type": "stream",
          "name": "stdout",
          "text": [
            "Python verzió listázása\n",
            "\n",
            "Python 3.8.10\n"
          ]
        }
      ]
    },
    {
      "cell_type": "code",
      "metadata": {
        "colab": {
          "base_uri": "https://localhost:8080/"
        },
        "id": "5297l0WANLop",
        "outputId": "04c835bb-3e3e-4337-869b-bf260dfa6ab5"
      },
      "source": [
        "print('A létrehozott txt fájlok törlése\\n')\n",
        "!rm *.txt\n",
        "!ls"
      ],
      "execution_count": 4,
      "outputs": [
        {
          "output_type": "stream",
          "name": "stdout",
          "text": [
            "A létrehozott txt fájlok törlése\n",
            "\n",
            "sample_data\n"
          ]
        }
      ]
    },
    {
      "cell_type": "code",
      "metadata": {
        "id": "LBLviNTyNR6F",
        "colab": {
          "base_uri": "https://localhost:8080/"
        },
        "outputId": "fd7aa703-a936-4ed7-8af8-e4604ce5f918"
      },
      "source": [
        "print('Python könyvtár telepítése pip-el \\n')\n",
        "!pip install deap"
      ],
      "execution_count": 5,
      "outputs": [
        {
          "output_type": "stream",
          "name": "stdout",
          "text": [
            "Python könyvtár telepítése pip-el \n",
            "\n",
            "Looking in indexes: https://pypi.org/simple, https://us-python.pkg.dev/colab-wheels/public/simple/\n",
            "Collecting deap\n",
            "  Downloading deap-1.3.3-cp38-cp38-manylinux_2_5_x86_64.manylinux1_x86_64.manylinux_2_17_x86_64.manylinux2014_x86_64.whl (139 kB)\n",
            "\u001b[2K     \u001b[90m━━━━━━━━━━━━━━━━━━━━━━━━━━━━━━━━━━━━━━━\u001b[0m \u001b[32m139.9/139.9 KB\u001b[0m \u001b[31m4.5 MB/s\u001b[0m eta \u001b[36m0:00:00\u001b[0m\n",
            "\u001b[?25hRequirement already satisfied: numpy in /usr/local/lib/python3.8/dist-packages (from deap) (1.21.6)\n",
            "Installing collected packages: deap\n",
            "Successfully installed deap-1.3.3\n"
          ]
        }
      ]
    },
    {
      "cell_type": "markdown",
      "metadata": {
        "id": "ycL2P89MNiv2"
      },
      "source": [
        "# Adatok feltöltése és letöltése\n",
        "\n",
        "A Google Colab-ban történő feldolgozáshoz szükséges adatokat feltölthetjük interaktív módon, beköthetjük a Google Drive-et és onnan érjük el ezeket, vagy importálhatunk akár webcímről is. A mentés elvégezhető a Google Drive-ba, vagy az eredményeket tartalmazó fájlokat letölthetjük a böngésző segítségével. "
      ]
    },
    {
      "cell_type": "markdown",
      "metadata": {
        "id": "tIrTgyBZOUNj"
      },
      "source": [
        "## Fájlok feltöltése (a lokális fájlrendszerből)\n",
        "\n",
        "A `files.upload` a feltöltött fájlok gyűjteményét tartalmazza. "
      ]
    },
    {
      "cell_type": "code",
      "metadata": {
        "id": "b7iBDXWBON9h",
        "colab": {
          "base_uri": "https://localhost:8080/",
          "height": 89
        },
        "outputId": "ed8c854a-08c4-4861-c9ed-a8e4fb0259c4"
      },
      "source": [
        "from google.colab import files\n",
        "\n",
        "uploaded = files.upload()\n",
        "\n",
        "for fn in uploaded.keys():\n",
        "  print('A {length} bájt méretű {name} fájl feltöltődött '.format(\n",
        "      name=fn, length=len(uploaded[fn])))"
      ],
      "execution_count": 6,
      "outputs": [
        {
          "output_type": "display_data",
          "data": {
            "text/plain": [
              "<IPython.core.display.HTML object>"
            ],
            "text/html": [
              "\n",
              "     <input type=\"file\" id=\"files-a670b99b-bc63-4e23-ad53-deec36b95876\" name=\"files[]\" multiple disabled\n",
              "        style=\"border:none\" />\n",
              "     <output id=\"result-a670b99b-bc63-4e23-ad53-deec36b95876\">\n",
              "      Upload widget is only available when the cell has been executed in the\n",
              "      current browser session. Please rerun this cell to enable.\n",
              "      </output>\n",
              "      <script>// Copyright 2017 Google LLC\n",
              "//\n",
              "// Licensed under the Apache License, Version 2.0 (the \"License\");\n",
              "// you may not use this file except in compliance with the License.\n",
              "// You may obtain a copy of the License at\n",
              "//\n",
              "//      http://www.apache.org/licenses/LICENSE-2.0\n",
              "//\n",
              "// Unless required by applicable law or agreed to in writing, software\n",
              "// distributed under the License is distributed on an \"AS IS\" BASIS,\n",
              "// WITHOUT WARRANTIES OR CONDITIONS OF ANY KIND, either express or implied.\n",
              "// See the License for the specific language governing permissions and\n",
              "// limitations under the License.\n",
              "\n",
              "/**\n",
              " * @fileoverview Helpers for google.colab Python module.\n",
              " */\n",
              "(function(scope) {\n",
              "function span(text, styleAttributes = {}) {\n",
              "  const element = document.createElement('span');\n",
              "  element.textContent = text;\n",
              "  for (const key of Object.keys(styleAttributes)) {\n",
              "    element.style[key] = styleAttributes[key];\n",
              "  }\n",
              "  return element;\n",
              "}\n",
              "\n",
              "// Max number of bytes which will be uploaded at a time.\n",
              "const MAX_PAYLOAD_SIZE = 100 * 1024;\n",
              "\n",
              "function _uploadFiles(inputId, outputId) {\n",
              "  const steps = uploadFilesStep(inputId, outputId);\n",
              "  const outputElement = document.getElementById(outputId);\n",
              "  // Cache steps on the outputElement to make it available for the next call\n",
              "  // to uploadFilesContinue from Python.\n",
              "  outputElement.steps = steps;\n",
              "\n",
              "  return _uploadFilesContinue(outputId);\n",
              "}\n",
              "\n",
              "// This is roughly an async generator (not supported in the browser yet),\n",
              "// where there are multiple asynchronous steps and the Python side is going\n",
              "// to poll for completion of each step.\n",
              "// This uses a Promise to block the python side on completion of each step,\n",
              "// then passes the result of the previous step as the input to the next step.\n",
              "function _uploadFilesContinue(outputId) {\n",
              "  const outputElement = document.getElementById(outputId);\n",
              "  const steps = outputElement.steps;\n",
              "\n",
              "  const next = steps.next(outputElement.lastPromiseValue);\n",
              "  return Promise.resolve(next.value.promise).then((value) => {\n",
              "    // Cache the last promise value to make it available to the next\n",
              "    // step of the generator.\n",
              "    outputElement.lastPromiseValue = value;\n",
              "    return next.value.response;\n",
              "  });\n",
              "}\n",
              "\n",
              "/**\n",
              " * Generator function which is called between each async step of the upload\n",
              " * process.\n",
              " * @param {string} inputId Element ID of the input file picker element.\n",
              " * @param {string} outputId Element ID of the output display.\n",
              " * @return {!Iterable<!Object>} Iterable of next steps.\n",
              " */\n",
              "function* uploadFilesStep(inputId, outputId) {\n",
              "  const inputElement = document.getElementById(inputId);\n",
              "  inputElement.disabled = false;\n",
              "\n",
              "  const outputElement = document.getElementById(outputId);\n",
              "  outputElement.innerHTML = '';\n",
              "\n",
              "  const pickedPromise = new Promise((resolve) => {\n",
              "    inputElement.addEventListener('change', (e) => {\n",
              "      resolve(e.target.files);\n",
              "    });\n",
              "  });\n",
              "\n",
              "  const cancel = document.createElement('button');\n",
              "  inputElement.parentElement.appendChild(cancel);\n",
              "  cancel.textContent = 'Cancel upload';\n",
              "  const cancelPromise = new Promise((resolve) => {\n",
              "    cancel.onclick = () => {\n",
              "      resolve(null);\n",
              "    };\n",
              "  });\n",
              "\n",
              "  // Wait for the user to pick the files.\n",
              "  const files = yield {\n",
              "    promise: Promise.race([pickedPromise, cancelPromise]),\n",
              "    response: {\n",
              "      action: 'starting',\n",
              "    }\n",
              "  };\n",
              "\n",
              "  cancel.remove();\n",
              "\n",
              "  // Disable the input element since further picks are not allowed.\n",
              "  inputElement.disabled = true;\n",
              "\n",
              "  if (!files) {\n",
              "    return {\n",
              "      response: {\n",
              "        action: 'complete',\n",
              "      }\n",
              "    };\n",
              "  }\n",
              "\n",
              "  for (const file of files) {\n",
              "    const li = document.createElement('li');\n",
              "    li.append(span(file.name, {fontWeight: 'bold'}));\n",
              "    li.append(span(\n",
              "        `(${file.type || 'n/a'}) - ${file.size} bytes, ` +\n",
              "        `last modified: ${\n",
              "            file.lastModifiedDate ? file.lastModifiedDate.toLocaleDateString() :\n",
              "                                    'n/a'} - `));\n",
              "    const percent = span('0% done');\n",
              "    li.appendChild(percent);\n",
              "\n",
              "    outputElement.appendChild(li);\n",
              "\n",
              "    const fileDataPromise = new Promise((resolve) => {\n",
              "      const reader = new FileReader();\n",
              "      reader.onload = (e) => {\n",
              "        resolve(e.target.result);\n",
              "      };\n",
              "      reader.readAsArrayBuffer(file);\n",
              "    });\n",
              "    // Wait for the data to be ready.\n",
              "    let fileData = yield {\n",
              "      promise: fileDataPromise,\n",
              "      response: {\n",
              "        action: 'continue',\n",
              "      }\n",
              "    };\n",
              "\n",
              "    // Use a chunked sending to avoid message size limits. See b/62115660.\n",
              "    let position = 0;\n",
              "    do {\n",
              "      const length = Math.min(fileData.byteLength - position, MAX_PAYLOAD_SIZE);\n",
              "      const chunk = new Uint8Array(fileData, position, length);\n",
              "      position += length;\n",
              "\n",
              "      const base64 = btoa(String.fromCharCode.apply(null, chunk));\n",
              "      yield {\n",
              "        response: {\n",
              "          action: 'append',\n",
              "          file: file.name,\n",
              "          data: base64,\n",
              "        },\n",
              "      };\n",
              "\n",
              "      let percentDone = fileData.byteLength === 0 ?\n",
              "          100 :\n",
              "          Math.round((position / fileData.byteLength) * 100);\n",
              "      percent.textContent = `${percentDone}% done`;\n",
              "\n",
              "    } while (position < fileData.byteLength);\n",
              "  }\n",
              "\n",
              "  // All done.\n",
              "  yield {\n",
              "    response: {\n",
              "      action: 'complete',\n",
              "    }\n",
              "  };\n",
              "}\n",
              "\n",
              "scope.google = scope.google || {};\n",
              "scope.google.colab = scope.google.colab || {};\n",
              "scope.google.colab._files = {\n",
              "  _uploadFiles,\n",
              "  _uploadFilesContinue,\n",
              "};\n",
              "})(self);\n",
              "</script> "
            ]
          },
          "metadata": {}
        },
        {
          "output_type": "stream",
          "name": "stdout",
          "text": [
            "Saving fibo.png to fibo.png\n",
            "A 57620 bájt méretű fibo.png fájl feltöltődött \n"
          ]
        }
      ]
    },
    {
      "cell_type": "markdown",
      "metadata": {
        "id": "LCiuIH4_PeDH"
      },
      "source": [
        "## Fájlok letöltése\n",
        "\n",
        "A `files.download` letölti a fájlokat a  böngészőn keresztül. "
      ]
    },
    {
      "cell_type": "code",
      "metadata": {
        "id": "_V4kNORZOwbD",
        "colab": {
          "base_uri": "https://localhost:8080/",
          "height": 52
        },
        "outputId": "b7092237-76a9-40e7-fc6a-d5b21a121b6d"
      },
      "source": [
        "from google.colab import files\n",
        "import random\n",
        "\n",
        "x = random.choices(range(0, 9), k=20)\n",
        "print(x)\n",
        "\n",
        "with open('szamok.txt', 'w') as f:\n",
        "  f.write(str(x))\n",
        "\n",
        "!cat szamok.txt\n",
        "\n",
        "files.download('szamok.txt')"
      ],
      "execution_count": 7,
      "outputs": [
        {
          "output_type": "stream",
          "name": "stdout",
          "text": [
            "[3, 4, 0, 0, 5, 8, 6, 7, 5, 7, 6, 7, 7, 6, 2, 5, 0, 1, 3, 1]\n",
            "[3, 4, 0, 0, 5, 8, 6, 7, 5, 7, 6, 7, 7, 6, 2, 5, 0, 1, 3, 1]"
          ]
        },
        {
          "output_type": "display_data",
          "data": {
            "text/plain": [
              "<IPython.core.display.Javascript object>"
            ],
            "application/javascript": [
              "\n",
              "    async function download(id, filename, size) {\n",
              "      if (!google.colab.kernel.accessAllowed) {\n",
              "        return;\n",
              "      }\n",
              "      const div = document.createElement('div');\n",
              "      const label = document.createElement('label');\n",
              "      label.textContent = `Downloading \"${filename}\": `;\n",
              "      div.appendChild(label);\n",
              "      const progress = document.createElement('progress');\n",
              "      progress.max = size;\n",
              "      div.appendChild(progress);\n",
              "      document.body.appendChild(div);\n",
              "\n",
              "      const buffers = [];\n",
              "      let downloaded = 0;\n",
              "\n",
              "      const channel = await google.colab.kernel.comms.open(id);\n",
              "      // Send a message to notify the kernel that we're ready.\n",
              "      channel.send({})\n",
              "\n",
              "      for await (const message of channel.messages) {\n",
              "        // Send a message to notify the kernel that we're ready.\n",
              "        channel.send({})\n",
              "        if (message.buffers) {\n",
              "          for (const buffer of message.buffers) {\n",
              "            buffers.push(buffer);\n",
              "            downloaded += buffer.byteLength;\n",
              "            progress.value = downloaded;\n",
              "          }\n",
              "        }\n",
              "      }\n",
              "      const blob = new Blob(buffers, {type: 'application/binary'});\n",
              "      const a = document.createElement('a');\n",
              "      a.href = window.URL.createObjectURL(blob);\n",
              "      a.download = filename;\n",
              "      div.appendChild(a);\n",
              "      a.click();\n",
              "      div.remove();\n",
              "    }\n",
              "  "
            ]
          },
          "metadata": {}
        },
        {
          "output_type": "display_data",
          "data": {
            "text/plain": [
              "<IPython.core.display.Javascript object>"
            ],
            "application/javascript": [
              "download(\"download_74178d60-226b-47c0-9060-6e8656837c79\", \"szamok.txt\", 60)"
            ]
          },
          "metadata": {}
        }
      ]
    },
    {
      "cell_type": "markdown",
      "metadata": {
        "id": "_fj-7d7nP8fk"
      },
      "source": [
        "## Google Drive bekötése\n",
        "\n",
        "A Google Drive csatlakoztatható egy hitelesítési kód megadásával, amelyet a  Google-fiókunkal történő bejelentkezés-engedélyezési lépés után kapunk meg. A csatlakoztatás után a Drive-ban lévő fájlok olvashatók és írhatók. "
      ]
    },
    {
      "cell_type": "code",
      "metadata": {
        "id": "Xs-RrV7SPsWm",
        "colab": {
          "base_uri": "https://localhost:8080/"
        },
        "outputId": "f5374190-fe92-46fd-8ff5-77be54a18baf"
      },
      "source": [
        "from google.colab import drive\n",
        "drive.mount('/content/drive')"
      ],
      "execution_count": 8,
      "outputs": [
        {
          "output_type": "stream",
          "name": "stdout",
          "text": [
            "Mounted at /content/drive\n"
          ]
        }
      ]
    },
    {
      "cell_type": "code",
      "metadata": {
        "id": "m6Sn2Ay1QQ9_",
        "colab": {
          "base_uri": "https://localhost:8080/"
        },
        "outputId": "bde8eefe-75c9-47d2-c455-057a2215b86e"
      },
      "source": [
        "with open('/content/drive/MyDrive/hello.txt', 'w') as f:\n",
        "  f.write('Hello, Google Drive!')\n",
        "!cat '/content/drive/MyDrive/hello.txt'"
      ],
      "execution_count": 9,
      "outputs": [
        {
          "output_type": "stream",
          "name": "stdout",
          "text": [
            "Hello, Google Drive!"
          ]
        }
      ]
    },
    {
      "cell_type": "code",
      "metadata": {
        "id": "-QBG_XtoQT-q",
        "colab": {
          "base_uri": "https://localhost:8080/"
        },
        "outputId": "445e4557-b33f-4883-fa60-20f86f903438"
      },
      "source": [
        "drive.flush_and_unmount()\n",
        "print('A végrehajtott változások láthatók a Drive-ban. Ellenőrizze ezeket a drive.google.com címen ')"
      ],
      "execution_count": 10,
      "outputs": [
        {
          "output_type": "stream",
          "name": "stdout",
          "text": [
            "A végrehajtott változások láthatók a Drive-ban. Ellenőrizze ezeket a drive.google.com címen \n"
          ]
        }
      ]
    }
  ]
}